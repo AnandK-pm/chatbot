{
  "nbformat": 4,
  "nbformat_minor": 0,
  "metadata": {
    "colab": {
      "provenance": [],
      "authorship_tag": "ABX9TyO1yiyQkJcrpL5mhuYrKrHm",
      "include_colab_link": true
    },
    "kernelspec": {
      "name": "python3",
      "display_name": "Python 3"
    },
    "language_info": {
      "name": "python"
    }
  },
  "cells": [
    {
      "cell_type": "markdown",
      "metadata": {
        "id": "view-in-github",
        "colab_type": "text"
      },
      "source": [
        "<a href=\"https://colab.research.google.com/github/AnandK-pm/chatbot/blob/main/chatbot.ipynb\" target=\"_parent\"><img src=\"https://colab.research.google.com/assets/colab-badge.svg\" alt=\"Open In Colab\"/></a>"
      ]
    },
    {
      "cell_type": "code",
      "execution_count": null,
      "metadata": {
        "colab": {
          "base_uri": "https://localhost:8080/"
        },
        "id": "KCmkmwxZbnZH",
        "outputId": "5fd0f145-f323-4db0-98c2-a1e0901cf9d3"
      },
      "outputs": [
        {
          "output_type": "stream",
          "name": "stdout",
          "text": [
            "Hi, I'm a chatbot created by Anand. Type 'quit' to exit.\n",
            ">hey\n",
            "Hey there\n",
            ">what is your name?\n",
            "I am a chatbot created by Nystbart. You can call me Chatbot!\n",
            ">how are you?\n",
            "I'm doing good\n",
            "How about you?\n",
            ">fine\n",
            "I didn't understand that. Can you please rephrase?\n",
            ">Fine\n",
            "I'm not sure how to respond to that.\n",
            ">its okay\n",
            "I'm not sure how to respond to that.\n",
            ">location?\n",
            "I didn't understand that. Can you please rephrase?\n",
            ">where is your location?\n",
            "I'm just a virtual entity, but I'm based on the server you're using.\n",
            ">I see\n",
            "I didn't understand that. Can you please rephrase?\n"
          ]
        }
      ],
      "source": [
        "import nltk\n",
        "from nltk.chat.util import Chat, reflections\n",
        "pairs = [\n",
        "    [\n",
        "        r\"my name is (.*)\",\n",
        "        [\"Hello %1, How are you today?\",]\n",
        "    ],\n",
        "    [\n",
        "        r\"hi|hey|hello\",\n",
        "        [\"Hello\", \"Hey there\",]\n",
        "    ],\n",
        "    [\n",
        "        r\"what is your name?\",\n",
        "        [\"I am a chatbot created by Anand. You can call me Chatbot!\",]\n",
        "    ],\n",
        "    [\n",
        "        r\"how are you?\",\n",
        "        [\"I'm doing good\\nHow about you?\",]\n",
        "    ],\n",
        "    [\n",
        "        r\"sorry (.*)\",\n",
        "        [\"It's alright\", \"It's OK, never mind\",]\n",
        "    ],\n",
        "    [\n",
        "        r\"I am (.*) (good|well|okay|ok)\",\n",
        "        [\"Nice to hear that\", \"Alright, great!\",]\n",
        "    ],\n",
        "    [\n",
        "        r\"(.*) (location|city) ?\",\n",
        "        [\"I'm just a virtual entity, but I'm based on the server you're using.\",]\n",
        "    ],\n",
        "    [\n",
        "        r\"(.*) created (.*)\",\n",
        "        [\"Nystbart created me using Python and NLTK\",]\n",
        "    ],\n",
        "    [\n",
        "        r\"how is the weather in (.*)?\",\n",
        "        [\"I don't have access to weather information right now, but you can check online!\",]\n",
        "    ],\n",
        "    [\n",
        "        r\"quit\",\n",
        "        [\"Bye! Take care.\", \"It was nice talking to you. Goodbye!\"]\n",
        "    ],\n",
        "    [\n",
        "        r\"(.*)\",\n",
        "        [\"I didn't understand that. Can you please rephrase?\", \"I'm not sure how to respond to that.\"]\n",
        "    ],\n",
        "]\n",
        "\n",
        "reflections = {\n",
        "    \"i am\"       : \"you are\",\n",
        "    \"i was\"      : \"you were\",\n",
        "    \"i\"          : \"you\",\n",
        "    \"i'd\"        : \"you would\",\n",
        "    \"i've\"       : \"you have\",\n",
        "    \"i'll\"       : \"you will\",\n",
        "    \"my\"         : \"your\",\n",
        "    \"you are\"    : \"I am\",\n",
        "    \"you were\"   : \"I was\",\n",
        "    \"you've\"     : \"I have\",\n",
        "    \"you'll\"     : \"I will\",\n",
        "    \"your\"       : \"my\",\n",
        "    \"yours\"      : \"mine\",\n",
        "    \"you\"        : \"me\",\n",
        "    \"me\"         : \"you\"\n",
        "}\n",
        "def chatbot():\n",
        "    print(\"Hi, I'm a chatbot created by Anand. Type 'quit' to exit.\")\n",
        "    chat = Chat(pairs, reflections)\n",
        "    chat.converse()\n",
        "\n",
        "if __name__ == \"__main__\":\n",
        "    chatbot()\n"
      ]
    }
  ]
}